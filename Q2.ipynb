{
  "metadata": {
    "kernelspec": {
      "name": "python",
      "display_name": "Python (Pyodide)",
      "language": "python"
    },
    "language_info": {
      "codemirror_mode": {
        "name": "python",
        "version": 3
      },
      "file_extension": ".py",
      "mimetype": "text/x-python",
      "name": "python",
      "nbconvert_exporter": "python",
      "pygments_lexer": "ipython3",
      "version": "3.8"
    }
  },
  "nbformat_minor": 5,
  "nbformat": 4,
  "cells": [
    {
      "id": "49cb2d6c-6ea8-4477-8365-86a447b884d4",
      "cell_type": "code",
      "source": "import numpy as np\n# Sales data: rows = products, columns = days\nsales_data = np.array([[150, 200, 250, 300, 400, 350, 500],[120, 180, 210, 240, 310, 280, 400],[100, 130, 190, 220, 300, 270, 350],[80,  90,  150, 180, 240, 220, 300],[50,  60,  80,  100, 130, 120, 180]])\nprint(\"Shape of Array\" , np.shape(sales_data))",
      "metadata": {
        "trusted": true
      },
      "outputs": [
        {
          "name": "stdout",
          "output_type": "stream",
          "text": "Shape of Array (5, 7)\n"
        }
      ],
      "execution_count": 1
    },
    {
      "id": "75896573-ff72-4e12-b811-9b61adc37f4e",
      "cell_type": "code",
      "source": "print(\"Dimension of Array\",np.ndim(sales_data))",
      "metadata": {
        "trusted": true
      },
      "outputs": [
        {
          "name": "stdout",
          "output_type": "stream",
          "text": "Dimension of Array 2\n"
        }
      ],
      "execution_count": 2
    },
    {
      "id": "bdeac29a-e31e-4b6a-8cb6-5cdfedc93280",
      "cell_type": "code",
      "source": "print(\"Data type is\" ,sales_data.dtype)",
      "metadata": {
        "trusted": true
      },
      "outputs": [
        {
          "name": "stdout",
          "output_type": "stream",
          "text": "Data type is int32\n"
        }
      ],
      "execution_count": 7
    },
    {
      "id": "027f72e0-9be9-4603-9d15-9341b43890d3",
      "cell_type": "code",
      "source": "print(\"Total Elements in Array\",sales_data.size* sales_data.itemsize)",
      "metadata": {
        "trusted": true
      },
      "outputs": [
        {
          "name": "stdout",
          "output_type": "stream",
          "text": "Total Elements in Array 140\n"
        }
      ],
      "execution_count": 8
    },
    {
      "id": "2345375b-9eaf-4148-953c-e7d370cd3c5d",
      "cell_type": "code",
      "source": "print(\"Sales Data for Product 3 on Day 4 \",sales_data[3][3])\nprint(\"Sales Data for: Product 1 \",sales_data[0])",
      "metadata": {
        "trusted": true
      },
      "outputs": [
        {
          "name": "stdout",
          "output_type": "stream",
          "text": "Sales Data for Product 3 on Day 4  180\nsales data for: Product 1  [150 200 250 300 400 350 500]\n"
        }
      ],
      "execution_count": 9
    },
    {
      "id": "6f6a8ae5-b1f7-4ef4-8746-ee13baaed7b5",
      "cell_type": "code",
      "source": "",
      "metadata": {
        "trusted": true
      },
      "outputs": [],
      "execution_count": null
    }
  ]
}