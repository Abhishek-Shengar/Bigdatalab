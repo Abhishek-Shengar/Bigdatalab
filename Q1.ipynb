{
  "metadata": {
    "kernelspec": {
      "name": "python",
      "display_name": "Python (Pyodide)",
      "language": "python"
    },
    "language_info": {
      "codemirror_mode": {
        "name": "python",
        "version": 3
      },
      "file_extension": ".py",
      "mimetype": "text/x-python",
      "name": "python",
      "nbconvert_exporter": "python",
      "pygments_lexer": "ipython3",
      "version": "3.8"
    }
  },
  "nbformat_minor": 5,
  "nbformat": 4,
  "cells": [
    {
      "id": "ccf9a042-9a9e-4de3-9298-e96ee64bfa2f",
      "cell_type": "code",
      "source": "import numpy as np\nruns = np.array( [ [45, 50, 30, 60, 25],[10, 15, 5, 20, 12],[80, 60, 75, 100, 90],[25, 30, 20, 35, 40],[0, 5, 10, 0, 2],[50, 55, 60, 65, 70],[35, 40, 45, 50, 55],[100, 110, 120, 115, 125],[10, 12, 15, 10, 8],[70, 80, 85, 90, 95],[40, 45, 50, 55, 60] ] )\n\nx = np.sum(runs, axis=1)\nprint(x)\n",
      "metadata": {
        "trusted": true
      },
      "outputs": [
        {
          "name": "stdout",
          "output_type": "stream",
          "text": "[210  62 405 150  17 300 225 570  55 420 250]\n"
        }
      ],
      "execution_count": 1
    },
    {
      "id": "6d7d95ef-bfd3-4584-b862-7c49bb3ae585",
      "cell_type": "code",
      "source": "x = np.max(runs[0])\nprint(x)\nOutput :60",
      "metadata": {
        "trusted": true
      },
      "outputs": [
        {
          "name": "stdout",
          "output_type": "stream",
          "text": "60\n"
        }
      ],
      "execution_count": 2
    },
    {
      "id": "cd932b18-9d49-4a5c-b40f-508182a7dbfa",
      "cell_type": "code",
      "source": "x = np.mean(runs,axis=1)\nprint(x)",
      "metadata": {
        "trusted": true
      },
      "outputs": [
        {
          "name": "stdout",
          "output_type": "stream",
          "text": "[ 42.   12.4  81.   30.    3.4  60.   45.  114.   11.   84.   50. ]\n"
        }
      ],
      "execution_count": 3
    },
    {
      "id": "a6851d47-da75-44e2-95ba-9358c3e14760",
      "cell_type": "code",
      "source": "",
      "metadata": {
        "trusted": true
      },
      "outputs": [],
      "execution_count": null
    },
    {
      "id": "861fbf94-d7a4-463d-8283-1ec6ac44075a",
      "cell_type": "code",
      "source": "",
      "metadata": {
        "trusted": true
      },
      "outputs": [],
      "execution_count": null
    }
  ]
}