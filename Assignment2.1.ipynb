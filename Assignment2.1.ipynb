{
 "cells": [
  {
   "cell_type": "code",
   "execution_count": 15,
   "id": "efcb6f32-c349-47dc-8083-6aecb06d9949",
   "metadata": {},
   "outputs": [],
   "source": [
    "import pandas as pd\n",
    "data = {\"Match 1\": [45, 60, 20, 80, 55],\"Match 2\": [30, 50, 40, 90, 65],\"Match 3\": [70, 20, 35, 60, 40],\"Match 4\": [25, 45, 15, 100, 75]}\n",
    "x = pd.DataFrame(data, index=[\"Player 1\", \"Player 2\", \"Player 3\", \"Player 4\", \"Player 5\"])"
   ]
  },
  {
   "cell_type": "code",
   "execution_count": 17,
   "id": "775adfe6-067d-43cf-b40c-e578b1d4004c",
   "metadata": {},
   "outputs": [
    {
     "data": {
      "text/html": [
       "<div>\n",
       "<style scoped>\n",
       "    .dataframe tbody tr th:only-of-type {\n",
       "        vertical-align: middle;\n",
       "    }\n",
       "\n",
       "    .dataframe tbody tr th {\n",
       "        vertical-align: top;\n",
       "    }\n",
       "\n",
       "    .dataframe thead th {\n",
       "        text-align: right;\n",
       "    }\n",
       "</style>\n",
       "<table border=\"1\" class=\"dataframe\">\n",
       "  <thead>\n",
       "    <tr style=\"text-align: right;\">\n",
       "      <th></th>\n",
       "      <th>Match 1</th>\n",
       "      <th>Match 2</th>\n",
       "      <th>Match 3</th>\n",
       "      <th>Match 4</th>\n",
       "    </tr>\n",
       "  </thead>\n",
       "  <tbody>\n",
       "    <tr>\n",
       "      <th>Player 1</th>\n",
       "      <td>45</td>\n",
       "      <td>30</td>\n",
       "      <td>70</td>\n",
       "      <td>25</td>\n",
       "    </tr>\n",
       "    <tr>\n",
       "      <th>Player 2</th>\n",
       "      <td>60</td>\n",
       "      <td>50</td>\n",
       "      <td>20</td>\n",
       "      <td>45</td>\n",
       "    </tr>\n",
       "    <tr>\n",
       "      <th>Player 3</th>\n",
       "      <td>20</td>\n",
       "      <td>40</td>\n",
       "      <td>35</td>\n",
       "      <td>15</td>\n",
       "    </tr>\n",
       "  </tbody>\n",
       "</table>\n",
       "</div>"
      ],
      "text/plain": [
       "          Match 1  Match 2  Match 3  Match 4\n",
       "Player 1       45       30       70       25\n",
       "Player 2       60       50       20       45\n",
       "Player 3       20       40       35       15"
      ]
     },
     "execution_count": 17,
     "metadata": {},
     "output_type": "execute_result"
    }
   ],
   "source": [
    "x.head(3)"
   ]
  },
  {
   "cell_type": "code",
   "execution_count": 3,
   "id": "5b53cdad-096d-4540-929e-985222a9bae8",
   "metadata": {},
   "outputs": [
    {
     "data": {
      "text/plain": [
       "(5, 4)"
      ]
     },
     "execution_count": 3,
     "metadata": {},
     "output_type": "execute_result"
    }
   ],
   "source": [
    "num_players, num_matches = performance.shape\n",
    "(num_players, num_matches)"
   ]
  },
  {
   "cell_type": "code",
   "execution_count": 5,
   "id": "9ebb6d2d-7a29-442c-9f55-d0e543d23218",
   "metadata": {},
   "outputs": [
    {
     "data": {
      "text/plain": [
       "(['Match 1', 'Match 2', 'Match 3', 'Match 4'],\n",
       " ['Player 1', 'Player 2', 'Player 3', 'Player 4', 'Player 5'])"
      ]
     },
     "execution_count": 5,
     "metadata": {},
     "output_type": "execute_result"
    }
   ],
   "source": [
    "match_names = performance.columns.tolist()\n",
    "player_names = performance.index.tolist()\n",
    "(match_names, player_names)"
   ]
  },
  {
   "cell_type": "code",
   "execution_count": 6,
   "id": "00ebc711-18fd-4079-add9-3ae2362c0f62",
   "metadata": {},
   "outputs": [
    {
     "data": {
      "text/plain": [
       "Match 1    int64\n",
       "Match 2    int64\n",
       "Match 3    int64\n",
       "Match 4    int64\n",
       "dtype: object"
      ]
     },
     "execution_count": 6,
     "metadata": {},
     "output_type": "execute_result"
    }
   ],
   "source": [
    "x.dtypes"
   ]
  },
  {
   "cell_type": "code",
   "execution_count": 7,
   "id": "a036d4a9-d69c-4953-ac49-001e4de0fe9b",
   "metadata": {},
   "outputs": [
    {
     "data": {
      "text/plain": [
       "Match 1    0\n",
       "Match 2    0\n",
       "Match 3    0\n",
       "Match 4    0\n",
       "dtype: int64"
      ]
     },
     "execution_count": 7,
     "metadata": {},
     "output_type": "execute_result"
    }
   ],
   "source": [
    "x.isnull().sum()"
   ]
  },
  {
   "cell_type": "code",
   "execution_count": 8,
   "id": "97d1f1bd-8fd4-48d8-8e3c-5eb73eb7cca6",
   "metadata": {},
   "outputs": [
    {
     "data": {
      "text/plain": [
       "Match 1     80\n",
       "Match 2     90\n",
       "Match 3     60\n",
       "Match 4    100\n",
       "Name: Player 4, dtype: int64"
      ]
     },
     "execution_count": 8,
     "metadata": {},
     "output_type": "execute_result"
    }
   ],
   "source": [
    "x.loc[\"Player 4\"]"
   ]
  },
  {
   "cell_type": "code",
   "execution_count": 20,
   "id": "e55f8afe-991e-4662-80cc-052969386829",
   "metadata": {},
   "outputs": [
    {
     "data": {
      "text/plain": [
       "Player 1    30\n",
       "Player 2    50\n",
       "Player 3    40\n",
       "Player 4    90\n",
       "Player 5    65\n",
       "Name: Match 2, dtype: int64"
      ]
     },
     "execution_count": 20,
     "metadata": {},
     "output_type": "execute_result"
    }
   ],
   "source": [
    "x[\"Match 2\"]"
   ]
  },
  {
   "cell_type": "code",
   "execution_count": 21,
   "id": "c5778e56-c864-4308-b7be-54a30068e5eb",
   "metadata": {},
   "outputs": [
    {
     "data": {
      "text/html": [
       "<div>\n",
       "<style scoped>\n",
       "    .dataframe tbody tr th:only-of-type {\n",
       "        vertical-align: middle;\n",
       "    }\n",
       "\n",
       "    .dataframe tbody tr th {\n",
       "        vertical-align: top;\n",
       "    }\n",
       "\n",
       "    .dataframe thead th {\n",
       "        text-align: right;\n",
       "    }\n",
       "</style>\n",
       "<table border=\"1\" class=\"dataframe\">\n",
       "  <thead>\n",
       "    <tr style=\"text-align: right;\">\n",
       "      <th></th>\n",
       "      <th>Match 1</th>\n",
       "      <th>Match 4</th>\n",
       "    </tr>\n",
       "  </thead>\n",
       "  <tbody>\n",
       "    <tr>\n",
       "      <th>Player 1</th>\n",
       "      <td>45</td>\n",
       "      <td>25</td>\n",
       "    </tr>\n",
       "    <tr>\n",
       "      <th>Player 3</th>\n",
       "      <td>20</td>\n",
       "      <td>15</td>\n",
       "    </tr>\n",
       "  </tbody>\n",
       "</table>\n",
       "</div>"
      ],
      "text/plain": [
       "          Match 1  Match 4\n",
       "Player 1       45       25\n",
       "Player 3       20       15"
      ]
     },
     "execution_count": 21,
     "metadata": {},
     "output_type": "execute_result"
    }
   ],
   "source": [
    "x.loc[[\"Player 1\", \"Player 3\"], [\"Match 1\", \"Match 4\"]]"
   ]
  },
  {
   "cell_type": "code",
   "execution_count": 22,
   "id": "b719bcbb-c5ea-466e-954f-503c2624c300",
   "metadata": {},
   "outputs": [
    {
     "data": {
      "text/html": [
       "<div>\n",
       "<style scoped>\n",
       "    .dataframe tbody tr th:only-of-type {\n",
       "        vertical-align: middle;\n",
       "    }\n",
       "\n",
       "    .dataframe tbody tr th {\n",
       "        vertical-align: top;\n",
       "    }\n",
       "\n",
       "    .dataframe thead th {\n",
       "        text-align: right;\n",
       "    }\n",
       "</style>\n",
       "<table border=\"1\" class=\"dataframe\">\n",
       "  <thead>\n",
       "    <tr style=\"text-align: right;\">\n",
       "      <th></th>\n",
       "      <th>Match 1</th>\n",
       "      <th>Match 2</th>\n",
       "    </tr>\n",
       "  </thead>\n",
       "  <tbody>\n",
       "    <tr>\n",
       "      <th>Player 1</th>\n",
       "      <td>45</td>\n",
       "      <td>30</td>\n",
       "    </tr>\n",
       "    <tr>\n",
       "      <th>Player 2</th>\n",
       "      <td>60</td>\n",
       "      <td>50</td>\n",
       "    </tr>\n",
       "    <tr>\n",
       "      <th>Player 3</th>\n",
       "      <td>20</td>\n",
       "      <td>40</td>\n",
       "    </tr>\n",
       "  </tbody>\n",
       "</table>\n",
       "</div>"
      ],
      "text/plain": [
       "          Match 1  Match 2\n",
       "Player 1       45       30\n",
       "Player 2       60       50\n",
       "Player 3       20       40"
      ]
     },
     "execution_count": 22,
     "metadata": {},
     "output_type": "execute_result"
    }
   ],
   "source": [
    "x.iloc[:3, :2]"
   ]
  },
  {
   "cell_type": "code",
   "execution_count": 23,
   "id": "975bc7a9-470b-456e-9cfb-552d768f3a74",
   "metadata": {},
   "outputs": [
    {
     "data": {
      "text/plain": [
       "40"
      ]
     },
     "execution_count": 23,
     "metadata": {},
     "output_type": "execute_result"
    }
   ],
   "source": [
    "x.loc[\"Player 5\", \"Match 3\"]"
   ]
  }
 ],
 "metadata": {
  "kernelspec": {
   "display_name": "Python 3 (ipykernel)",
   "language": "python",
   "name": "python3"
  },
  "language_info": {
   "codemirror_mode": {
    "name": "ipython",
    "version": 3
   },
   "file_extension": ".py",
   "mimetype": "text/x-python",
   "name": "python",
   "nbconvert_exporter": "python",
   "pygments_lexer": "ipython3",
   "version": "3.11.7"
  }
 },
 "nbformat": 4,
 "nbformat_minor": 5
}
