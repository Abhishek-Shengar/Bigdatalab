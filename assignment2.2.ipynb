{
  "metadata": {
    "kernelspec": {
      "name": "python",
      "display_name": "Python (Pyodide)",
      "language": "python"
    },
    "language_info": {
      "codemirror_mode": {
        "name": "python",
        "version": 3
      },
      "file_extension": ".py",
      "mimetype": "text/x-python",
      "name": "python",
      "nbconvert_exporter": "python",
      "pygments_lexer": "ipython3",
      "version": "3.8"
    }
  },
  "nbformat_minor": 5,
  "nbformat": 4,
  "cells": [
    {
      "id": "86a6febd-65ed-425b-8b69-0c6feb273e14",
      "cell_type": "code",
      "source": "import pandas as pd\ndata = {\"Match 1\": [45, 60, 20, 80, 55],\"Match 2\": [30, 50, 40, 90, 65],\"Match 3\": [70, 20, 35, 60, 40],\"Match 4\": [25, 45, 15, 100, 75]}\nx = pd.DataFrame(data, index=[\"Player 1\", \"Player 2\", \"Player 3\", \"Player 4\", \"Player 5\"])",
      "metadata": {
        "trusted": true
      },
      "outputs": [],
      "execution_count": 3
    },
    {
      "id": "9ed19723-1807-4355-90e3-4928cb2f8d71",
      "cell_type": "code",
      "source": "x.loc[\"Player 2\", \"Match 4\"] = 50\nprint(x)",
      "metadata": {
        "trusted": true
      },
      "outputs": [
        {
          "name": "stdout",
          "output_type": "stream",
          "text": "          Match 1  Match 2  Match 3  Match 4  Total Runs\nPlayer 1       55       40       80       35         630\nPlayer 2       70       60       30       50         660\nPlayer 3       25       45       40       20         390\nPlayer 4       90      100       70      110        1110\nPlayer 5       65       75       50       85         825\nPlayer 6       60       50       70       80         780\n"
        }
      ],
      "execution_count": 19
    },
    {
      "id": "a2ddaa66-5d2b-4d57-a36b-8c8a97277613",
      "cell_type": "code",
      "source": "x.loc[\"Player 6\"] = [50, 40, 60, 70]",
      "metadata": {
        "trusted": true
      },
      "outputs": [],
      "execution_count": 9
    },
    {
      "id": "5b4cff21-0842-4e99-a095-34ff532976e2",
      "cell_type": "code",
      "source": "x.loc[\"Player 3\"] = x.loc[\"Player 3\"] - 5",
      "metadata": {
        "trusted": true
      },
      "outputs": [],
      "execution_count": 9
    },
    {
      "id": "d07a746a-39dd-47f4-8419-3fa3c9c680da",
      "cell_type": "code",
      "source": "x_percentage = (x / 120) * 100",
      "metadata": {
        "trusted": true
      },
      "outputs": [],
      "execution_count": 10
    },
    {
      "id": "5e409675-2be9-4d00-94ce-a52c43a0c37f",
      "cell_type": "code",
      "source": "x[\"Total Runs\"] = x.sum(axis=1)",
      "metadata": {
        "trusted": true
      },
      "outputs": [],
      "execution_count": 13
    },
    {
      "id": "351cdb0c-f6a3-40b3-9b5f-f776282dc52e",
      "cell_type": "code",
      "source": "total_runs_per_match = x.sum(axis=0)",
      "metadata": {
        "trusted": true
      },
      "outputs": [],
      "execution_count": 14
    },
    {
      "id": "ea3ef00c-9bd9-45ab-9513-0c9f41a40054",
      "cell_type": "code",
      "source": "highest_total_runs_player = x[\"Total Runs\"].idxmax()",
      "metadata": {
        "trusted": true
      },
      "outputs": [],
      "execution_count": 15
    },
    {
      "id": "61c118cc-e2c4-4698-b5f0-9028f7abaec8",
      "cell_type": "code",
      "source": "lowest_total_runs_match = total_runs_per_match.idxmin()",
      "metadata": {
        "trusted": true
      },
      "outputs": [],
      "execution_count": 16
    },
    {
      "id": "94b18b58-9524-4c01-9a6e-138b2dc4c692",
      "cell_type": "code",
      "source": "average_runs_per_player = x[\"Total Runs\"] / 4",
      "metadata": {
        "trusted": true
      },
      "outputs": [],
      "execution_count": 17
    },
    {
      "id": "5cf67f92-bdf7-492a-a0f7-60e8d718f93f",
      "cell_type": "code",
      "source": "print(x)",
      "metadata": {
        "trusted": true
      },
      "outputs": [
        {
          "name": "stdout",
          "output_type": "stream",
          "text": "          Match 1  Match 2  Match 3  Match 4  Total Runs\nPlayer 1       55       40       80       35         630\nPlayer 2       70       60       30       60         660\nPlayer 3       25       45       40       20         390\nPlayer 4       90      100       70      110        1110\nPlayer 5       65       75       50       85         825\nPlayer 6       60       50       70       80         780\n"
        }
      ],
      "execution_count": 18
    },
    {
      "id": "2584250c-eb21-4326-baa3-f49fa91793e3",
      "cell_type": "code",
      "source": "x_sorted = x.sort_values(by=\"Total Runs\", ascending=False)",
      "metadata": {
        "trusted": true
      },
      "outputs": [],
      "execution_count": 27
    },
    {
      "id": "299b0121-0e8a-4799-9267-2daa7447e63a",
      "cell_type": "code",
      "source": "players_above_200 = x_sorted[x_sorted[\"Total Runs\"] > 200]",
      "metadata": {
        "trusted": true
      },
      "outputs": [],
      "execution_count": 28
    },
    {
      "id": "3daefdf1-fc1d-4a02-bb69-f78a5afdd597",
      "cell_type": "code",
      "source": "x_percentage, total_runs_per_match, highest_total_runs_player, lowest_total_runs_match, average_runs_per_player, x_sorted, players_above_200",
      "metadata": {
        "trusted": true
      },
      "outputs": [
        {
          "execution_count": 29,
          "output_type": "execute_result",
          "data": {
            "text/plain": "(            Match 1    Match 2    Match 3    Match 4\n Player 1  45.833333  33.333333  66.666667  29.166667\n Player 2  58.333333  50.000000  25.000000  50.000000\n Player 3  20.833333  37.500000  33.333333  16.666667\n Player 4  75.000000  83.333333  58.333333  91.666667\n Player 5  54.166667  62.500000  41.666667  70.833333\n Player 6  50.000000  41.666667  58.333333  66.666667,\n Match 1        365\n Match 2        370\n Match 3        340\n Match 4        390\n Total Runs    4395\n dtype: int64,\n 'Player 4',\n 'Match 3',\n Player 1    157.50\n Player 2    165.00\n Player 3     97.50\n Player 4    277.50\n Player 5    206.25\n Player 6    195.00\n Name: Total Runs, dtype: float64,\n           Match 1  Match 2  Match 3  Match 4  Total Runs\n Player 4       90      100       70      110        1110\n Player 5       65       75       50       85         825\n Player 6       60       50       70       80         780\n Player 2       70       60       30       50         660\n Player 1       55       40       80       35         630\n Player 3       25       45       40       20         390,\n           Match 1  Match 2  Match 3  Match 4  Total Runs\n Player 4       90      100       70      110        1110\n Player 5       65       75       50       85         825\n Player 6       60       50       70       80         780\n Player 2       70       60       30       50         660\n Player 1       55       40       80       35         630\n Player 3       25       45       40       20         390)"
          },
          "metadata": {}
        }
      ],
      "execution_count": 29
    },
    {
      "id": "718c7e43-321b-475f-acd1-a11c8655c561",
      "cell_type": "code",
      "source": "",
      "metadata": {
        "trusted": true
      },
      "outputs": [],
      "execution_count": null
    }
  ]
}